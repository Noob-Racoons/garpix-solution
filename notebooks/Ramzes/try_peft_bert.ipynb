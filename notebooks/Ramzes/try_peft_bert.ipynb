{
 "cells": [
  {
   "cell_type": "code",
   "execution_count": 62,
   "metadata": {},
   "outputs": [],
   "source": [
    "# !pip install torch==2.1.2 torchvision==0.16.2 torchaudio==2.1.2 --index-url https://download.pytorch.org/whl/cu121"
   ]
  },
  {
   "cell_type": "code",
   "execution_count": 63,
   "metadata": {},
   "outputs": [],
   "source": [
    "# !pip install https://github.com/jllllll/bitsandbytes-windows-webui/releases/download/wheels/bitsandbytes-0.41.0-py3-none-win_amd64.whl"
   ]
  },
  {
   "cell_type": "code",
   "execution_count": 64,
   "metadata": {},
   "outputs": [],
   "source": [
    "# !pip install -q datasets transformers accelerate loralib sentencepiece gradio fire peft wandb peft"
   ]
  },
  {
   "cell_type": "code",
   "execution_count": 65,
   "metadata": {},
   "outputs": [],
   "source": [
    "import zipfile\n",
    "import json\n",
    "import datetime\n",
    "\n",
    "import torch\n",
    "from torch import nn\n",
    "from transformers import AutoModelForSequenceClassification, AutoTokenizer, TrainingArguments, Trainer\n",
    "from datasets import Dataset\n",
    "import peft\n",
    "from peft import PeftModelForSequenceClassification, LoraConfig, get_peft_model\n",
    "import evaluate\n",
    "import wandb\n",
    "from sklearn.model_selection import train_test_split\n",
    "from sklearn.metrics import accuracy_score, classification_report\n",
    "import pandas as pd\n",
    "from loguru import logger\n",
    "import numpy as np"
   ]
  },
  {
   "cell_type": "code",
   "execution_count": 66,
   "metadata": {},
   "outputs": [
    {
     "name": "stdout",
     "output_type": "stream",
     "text": [
      "True\n"
     ]
    }
   ],
   "source": [
    "print(torch.cuda.is_available())"
   ]
  },
  {
   "cell_type": "code",
   "execution_count": 67,
   "metadata": {},
   "outputs": [],
   "source": [
    "data_zip = zipfile.ZipFile('D:\\My_projects\\Grapix\\garpix-solution\\data\\small_boxes.zip', 'r')"
   ]
  },
  {
   "cell_type": "code",
   "execution_count": 68,
   "metadata": {},
   "outputs": [],
   "source": [
    "with data_zip.open(data_zip.filelist[0].filename) as file:\n",
    "    json_file = json.loads(file.read())"
   ]
  },
  {
   "cell_type": "code",
   "execution_count": 69,
   "metadata": {},
   "outputs": [],
   "source": [
    "boxes = pd.json_normalize(json_file['first_visual']['boxes'])[[\n",
    "    'mass','size.width','size.height', 'size.length'\n",
    "    ]].to_numpy().flatten()"
   ]
  },
  {
   "cell_type": "code",
   "execution_count": 70,
   "metadata": {},
   "outputs": [],
   "source": [
    "target = json_file['first_visual']['calculation_info']['density_percent']"
   ]
  },
  {
   "cell_type": "code",
   "execution_count": 71,
   "metadata": {},
   "outputs": [],
   "source": [
    "def json_to_array(json):\n",
    "    \n",
    "    boxes = pd.json_normalize(json['first_visual']['boxes'])[[\n",
    "        'mass', 'size.width', 'size.height', 'size.length'\n",
    "        ]]\n",
    "    target = json['first_visual']['calculation_info']['density_percent']\n",
    "    \n",
    "    return boxes.to_numpy().flatten(), target"
   ]
  },
  {
   "cell_type": "code",
   "execution_count": 72,
   "metadata": {},
   "outputs": [],
   "source": [
    "arr = []\n",
    "targets = []\n",
    "\n",
    "for data_info in data_zip.filelist:\n",
    "    with data_zip.open(data_info.filename) as file:\n",
    "        json_file = json.loads(file.read())\n",
    "        try:\n",
    "            boxes, target = json_to_array(json_file)\n",
    "            if len(boxes) <= 512:\n",
    "                boxes = np.array2string(\n",
    "                    boxes, separator=' ', formatter={'float_kind': lambda x: str(int(x))}\n",
    "                ).replace('[', '').replace(']', '').replace('\\n', '')\n",
    "                arr.append(str(boxes))\n",
    "                targets.append(round(target))\n",
    "            else:\n",
    "                logger.info(f'{data_info.filename} length is more than 512. Skip.')\n",
    "                pass\n",
    "        except Exception as e:\n",
    "            logger.warning(f'\\nError {e} \\n In file {data_info.filename}')\n",
    "            pass"
   ]
  },
  {
   "cell_type": "code",
   "execution_count": 73,
   "metadata": {},
   "outputs": [
    {
     "data": {
      "text/plain": [
       "(4999, 4999)"
      ]
     },
     "execution_count": 73,
     "metadata": {},
     "output_type": "execute_result"
    }
   ],
   "source": [
    "len(arr), len(targets)"
   ]
  },
  {
   "cell_type": "code",
   "execution_count": 74,
   "metadata": {},
   "outputs": [],
   "source": [
    "df = pd.DataFrame()"
   ]
  },
  {
   "cell_type": "code",
   "execution_count": 75,
   "metadata": {},
   "outputs": [],
   "source": [
    "df['text'] = arr\n",
    "df['labels'] = targets\n",
    "df['labels'] = df['labels'].astype(float)"
   ]
  },
  {
   "cell_type": "code",
   "execution_count": 76,
   "metadata": {},
   "outputs": [
    {
     "data": {
      "text/plain": [
       "{77.0: 0,\n",
       " 76.0: 1,\n",
       " 74.0: 2,\n",
       " 56.0: 3,\n",
       " 87.0: 4,\n",
       " 54.0: 5,\n",
       " 100.0: 6,\n",
       " 73.0: 7,\n",
       " 58.0: 8,\n",
       " 62.0: 9,\n",
       " 68.0: 10,\n",
       " 69.0: 11,\n",
       " 71.0: 12,\n",
       " 43.0: 13,\n",
       " 40.0: 14,\n",
       " 82.0: 15,\n",
       " 79.0: 16,\n",
       " 75.0: 17,\n",
       " 81.0: 18,\n",
       " 65.0: 19,\n",
       " 85.0: 20,\n",
       " 67.0: 21,\n",
       " 61.0: 22,\n",
       " 37.0: 23,\n",
       " 84.0: 24,\n",
       " 83.0: 25,\n",
       " 59.0: 26,\n",
       " 45.0: 27,\n",
       " 80.0: 28,\n",
       " 48.0: 29,\n",
       " 89.0: 30,\n",
       " 64.0: 31,\n",
       " 63.0: 32,\n",
       " 51.0: 33,\n",
       " 72.0: 34,\n",
       " 88.0: 35,\n",
       " 66.0: 36,\n",
       " 49.0: 37,\n",
       " 78.0: 38,\n",
       " 90.0: 39,\n",
       " 57.0: 40,\n",
       " 70.0: 41,\n",
       " 53.0: 42,\n",
       " 46.0: 43,\n",
       " 35.0: 44,\n",
       " 86.0: 45,\n",
       " 55.0: 46,\n",
       " 44.0: 47,\n",
       " 50.0: 48,\n",
       " 36.0: 49,\n",
       " 60.0: 50,\n",
       " 38.0: 51,\n",
       " 41.0: 52,\n",
       " 47.0: 53,\n",
       " 91.0: 54,\n",
       " 92.0: 55,\n",
       " 52.0: 56,\n",
       " 33.0: 57,\n",
       " 30.0: 58,\n",
       " 19.0: 59,\n",
       " 93.0: 60,\n",
       " 94.0: 61,\n",
       " 42.0: 62,\n",
       " 31.0: 63,\n",
       " 34.0: 64,\n",
       " 98.0: 65,\n",
       " 20.0: 66,\n",
       " 96.0: 67,\n",
       " 97.0: 68,\n",
       " 95.0: 69,\n",
       " 39.0: 70,\n",
       " 26.0: 71,\n",
       " 29.0: 72,\n",
       " 16.0: 73,\n",
       " 24.0: 74,\n",
       " 8.0: 75,\n",
       " 32.0: 76,\n",
       " 9.0: 77,\n",
       " 21.0: 78,\n",
       " 23.0: 79,\n",
       " 25.0: 80,\n",
       " 7.0: 81,\n",
       " 28.0: 82,\n",
       " 13.0: 83,\n",
       " 10.0: 84,\n",
       " 11.0: 85,\n",
       " 22.0: 86,\n",
       " 27.0: 87,\n",
       " 18.0: 88}"
      ]
     },
     "execution_count": 76,
     "metadata": {},
     "output_type": "execute_result"
    }
   ],
   "source": [
    "label_enum = {k:j for j, k in enumerate(df['labels'].unique())}\n",
    "label_enum"
   ]
  },
  {
   "cell_type": "code",
   "execution_count": 77,
   "metadata": {},
   "outputs": [],
   "source": [
    "df['labels'] = df['labels'].apply(lambda x: [1.0 if label_enum[x]==i else 0.0 for i in range(len(set(targets)))])"
   ]
  },
  {
   "cell_type": "code",
   "execution_count": 78,
   "metadata": {},
   "outputs": [],
   "source": [
    "train, val = train_test_split(df, test_size=0.2, random_state=42, shuffle=True)\n",
    "train_data = Dataset.from_pandas(train)\n",
    "val_data = Dataset.from_pandas(val)"
   ]
  },
  {
   "cell_type": "code",
   "execution_count": 79,
   "metadata": {},
   "outputs": [],
   "source": [
    "tokenizer = AutoTokenizer.from_pretrained(\"bert-base-uncased\")\n",
    "\n",
    "def tokenize_function(examples):\n",
    "    return tokenizer(examples['text'], padding=\"max_length\", truncation=True, max_length=512, return_tensors=\"pt\")"
   ]
  },
  {
   "cell_type": "code",
   "execution_count": 80,
   "metadata": {},
   "outputs": [
    {
     "data": {
      "application/vnd.jupyter.widget-view+json": {
       "model_id": "3207c666645946e1b5d6adcb43a0ff94",
       "version_major": 2,
       "version_minor": 0
      },
      "text/plain": [
       "Map:   0%|          | 0/3999 [00:00<?, ? examples/s]"
      ]
     },
     "metadata": {},
     "output_type": "display_data"
    },
    {
     "data": {
      "application/vnd.jupyter.widget-view+json": {
       "model_id": "c035333eedfc4cfd9fe48fbc74e0e905",
       "version_major": 2,
       "version_minor": 0
      },
      "text/plain": [
       "Map:   0%|          | 0/1000 [00:00<?, ? examples/s]"
      ]
     },
     "metadata": {},
     "output_type": "display_data"
    }
   ],
   "source": [
    "train_dataset = train_data.map(tokenize_function, batched=True)\n",
    "val_dataset = val_data.map(tokenize_function, batched=True)"
   ]
  },
  {
   "cell_type": "code",
   "execution_count": 81,
   "metadata": {},
   "outputs": [],
   "source": [
    "train_dataset = train_dataset.remove_columns(['__index_level_0__', 'text'])\n",
    "val_dataset = val_dataset.remove_columns(['__index_level_0__', 'text'])"
   ]
  },
  {
   "cell_type": "code",
   "execution_count": 126,
   "metadata": {},
   "outputs": [],
   "source": [
    "train_dataset.set_format(\"pt\", columns=[\"input_ids\", 'token_type_ids', 'attention_mask', 'labels'], output_all_columns=True)\n",
    "val_dataset.set_format(\"pt\", columns=[\"input_ids\", 'token_type_ids', 'attention_mask'], output_all_columns=True)"
   ]
  },
  {
   "cell_type": "code",
   "execution_count": 86,
   "metadata": {},
   "outputs": [
    {
     "name": "stderr",
     "output_type": "stream",
     "text": [
      "Some weights of BertForSequenceClassification were not initialized from the model checkpoint at bert-base-uncased and are newly initialized: ['classifier.bias', 'classifier.weight']\n",
      "You should probably TRAIN this model on a down-stream task to be able to use it for predictions and inference.\n"
     ]
    }
   ],
   "source": [
    "model = AutoModelForSequenceClassification.from_pretrained(\"bert-base-uncased\", \n",
    "                                                           problem_type=\"multi_label_classification\",\n",
    "                                                           num_labels=len(set(targets)))"
   ]
  },
  {
   "cell_type": "code",
   "execution_count": 87,
   "metadata": {},
   "outputs": [],
   "source": [
    "peft_config = LoraConfig(\n",
    "    task_type=peft.TaskType.SEQ_CLS,\n",
    "    lora_alpha=16,\n",
    "    lora_dropout=0.1,\n",
    "    r=8,\n",
    "    bias=\"none\"\n",
    ")"
   ]
  },
  {
   "cell_type": "code",
   "execution_count": 88,
   "metadata": {},
   "outputs": [],
   "source": [
    "peft_former = get_peft_model(model, peft_config)"
   ]
  },
  {
   "cell_type": "code",
   "execution_count": 89,
   "metadata": {},
   "outputs": [],
   "source": [
    "def print_trainable_parameters(model):\n",
    "    \"\"\"\n",
    "    Prints the number of trainable parameters in the model.\n",
    "    \"\"\"\n",
    "    trainable_params = 0\n",
    "    all_param = 0\n",
    "    for _, param in model.named_parameters():\n",
    "        all_param += param.numel()\n",
    "        if param.requires_grad:\n",
    "            trainable_params += param.numel()\n",
    "    print(\n",
    "        f\"trainable params: {trainable_params} || all params: {all_param} || trainable%: {100 * trainable_params / all_param}\"\n",
    "    )"
   ]
  },
  {
   "cell_type": "code",
   "execution_count": 90,
   "metadata": {},
   "outputs": [
    {
     "name": "stdout",
     "output_type": "stream",
     "text": [
      "trainable params: 363353 || all params: 109914034 || trainable%: 0.3305792597876992\n"
     ]
    }
   ],
   "source": [
    "print_trainable_parameters(model)"
   ]
  },
  {
   "cell_type": "code",
   "execution_count": 91,
   "metadata": {},
   "outputs": [],
   "source": [
    "training_args = TrainingArguments(output_dir=\"test_trainer\",\n",
    "                                  no_cuda=False,\n",
    "                                  learning_rate=1e-3,\n",
    "                                  push_to_hub=False,\n",
    "                                  num_train_epochs=1,\n",
    "                                  evaluation_strategy='steps',\n",
    "                                  eval_steps=50,\n",
    "                                  logging_strategy=\"steps\",\n",
    "                                  logging_steps=50\n",
    "                                  )\n",
    "\n",
    "metric = evaluate.load(\"accuracy\")"
   ]
  },
  {
   "cell_type": "code",
   "execution_count": 92,
   "metadata": {},
   "outputs": [],
   "source": [
    "def compute_metrics_binary(eval_pred):\n",
    "\n",
    "    logits, labels = eval_pred\n",
    "\n",
    "    predictions = np.argmax(logits, axis=-1)\n",
    "\n",
    "    return metric.compute(predictions=predictions, references=labels)"
   ]
  },
  {
   "cell_type": "code",
   "execution_count": 154,
   "metadata": {},
   "outputs": [],
   "source": [
    "def compute_metrics(eval_pred):\n",
    "\n",
    "    logits, labels = eval_pred\n",
    "    \n",
    "    labels = np.argmax(labels, axis=-1)\n",
    "    predictions = np.argmax(logits, axis=-1)\n",
    "\n",
    "    return metric.compute(predictions=predictions, references=labels)"
   ]
  },
  {
   "cell_type": "code",
   "execution_count": 155,
   "metadata": {},
   "outputs": [
    {
     "data": {
      "text/plain": [
       "'cuda:0'"
      ]
     },
     "execution_count": 155,
     "metadata": {},
     "output_type": "execute_result"
    }
   ],
   "source": [
    "\"cuda:0\" if torch.cuda.is_available() else \"cpu\""
   ]
  },
  {
   "cell_type": "code",
   "execution_count": 156,
   "metadata": {},
   "outputs": [],
   "source": [
    "trainer = Trainer(\n",
    "    model=model,\n",
    "    args=training_args,\n",
    "    train_dataset=train_dataset,\n",
    "    eval_dataset=val_dataset,\n",
    "    compute_metrics=compute_metrics,\n",
    ")"
   ]
  },
  {
   "cell_type": "code",
   "execution_count": 157,
   "metadata": {},
   "outputs": [
    {
     "data": {
      "application/vnd.jupyter.widget-view+json": {
       "model_id": "c27df293cff648b6933a5d1c08078307",
       "version_major": 2,
       "version_minor": 0
      },
      "text/plain": [
       "  0%|          | 0/500 [00:00<?, ?it/s]"
      ]
     },
     "metadata": {},
     "output_type": "display_data"
    },
    {
     "name": "stdout",
     "output_type": "stream",
     "text": [
      "{'loss': 0.0591, 'learning_rate': 0.0009000000000000001, 'epoch': 0.1}\n"
     ]
    },
    {
     "data": {
      "application/vnd.jupyter.widget-view+json": {
       "model_id": "edf250ad4da745bc8b97a58b1a8e24c5",
       "version_major": 2,
       "version_minor": 0
      },
      "text/plain": [
       "  0%|          | 0/125 [00:00<?, ?it/s]"
      ]
     },
     "metadata": {},
     "output_type": "display_data"
    },
    {
     "name": "stdout",
     "output_type": "stream",
     "text": [
      "{'eval_loss': 0.05895644426345825, 'eval_accuracy': 0.028, 'eval_runtime': 14.4099, 'eval_samples_per_second': 69.397, 'eval_steps_per_second': 8.675, 'epoch': 0.1}\n",
      "{'loss': 0.0603, 'learning_rate': 0.0008, 'epoch': 0.2}\n"
     ]
    },
    {
     "data": {
      "application/vnd.jupyter.widget-view+json": {
       "model_id": "b2e5abe4aa984118bfe87f27eeb87d37",
       "version_major": 2,
       "version_minor": 0
      },
      "text/plain": [
       "  0%|          | 0/125 [00:00<?, ?it/s]"
      ]
     },
     "metadata": {},
     "output_type": "display_data"
    },
    {
     "name": "stdout",
     "output_type": "stream",
     "text": [
      "{'eval_loss': 0.05777722969651222, 'eval_accuracy': 0.029, 'eval_runtime': 14.4563, 'eval_samples_per_second': 69.174, 'eval_steps_per_second': 8.647, 'epoch': 0.2}\n",
      "{'loss': 0.0578, 'learning_rate': 0.0007, 'epoch': 0.3}\n"
     ]
    },
    {
     "data": {
      "application/vnd.jupyter.widget-view+json": {
       "model_id": "1dad9f7ff7fb4b0da5507fe190656cfe",
       "version_major": 2,
       "version_minor": 0
      },
      "text/plain": [
       "  0%|          | 0/125 [00:00<?, ?it/s]"
      ]
     },
     "metadata": {},
     "output_type": "display_data"
    },
    {
     "name": "stdout",
     "output_type": "stream",
     "text": [
      "{'eval_loss': 0.05756949260830879, 'eval_accuracy': 0.033, 'eval_runtime': 14.3916, 'eval_samples_per_second': 69.485, 'eval_steps_per_second': 8.686, 'epoch': 0.3}\n",
      "{'loss': 0.0581, 'learning_rate': 0.0006, 'epoch': 0.4}\n"
     ]
    },
    {
     "data": {
      "application/vnd.jupyter.widget-view+json": {
       "model_id": "df98349c3f76445ca907cce143057605",
       "version_major": 2,
       "version_minor": 0
      },
      "text/plain": [
       "  0%|          | 0/125 [00:00<?, ?it/s]"
      ]
     },
     "metadata": {},
     "output_type": "display_data"
    },
    {
     "name": "stdout",
     "output_type": "stream",
     "text": [
      "{'eval_loss': 0.05744867026805878, 'eval_accuracy': 0.036, 'eval_runtime': 14.5466, 'eval_samples_per_second': 68.745, 'eval_steps_per_second': 8.593, 'epoch': 0.4}\n",
      "{'loss': 0.0572, 'learning_rate': 0.0005, 'epoch': 0.5}\n"
     ]
    },
    {
     "data": {
      "application/vnd.jupyter.widget-view+json": {
       "model_id": "99c28cd4080f4c66851d2f974999fdc0",
       "version_major": 2,
       "version_minor": 0
      },
      "text/plain": [
       "  0%|          | 0/125 [00:00<?, ?it/s]"
      ]
     },
     "metadata": {},
     "output_type": "display_data"
    },
    {
     "name": "stdout",
     "output_type": "stream",
     "text": [
      "{'eval_loss': 0.0571628212928772, 'eval_accuracy': 0.035, 'eval_runtime': 14.4966, 'eval_samples_per_second': 68.982, 'eval_steps_per_second': 8.623, 'epoch': 0.5}\n",
      "{'loss': 0.0578, 'learning_rate': 0.0004, 'epoch': 0.6}\n"
     ]
    },
    {
     "data": {
      "application/vnd.jupyter.widget-view+json": {
       "model_id": "64840314cc5b408998b1bb91c8ed6b99",
       "version_major": 2,
       "version_minor": 0
      },
      "text/plain": [
       "  0%|          | 0/125 [00:00<?, ?it/s]"
      ]
     },
     "metadata": {},
     "output_type": "display_data"
    },
    {
     "name": "stdout",
     "output_type": "stream",
     "text": [
      "{'eval_loss': 0.05703720450401306, 'eval_accuracy': 0.029, 'eval_runtime': 14.498, 'eval_samples_per_second': 68.975, 'eval_steps_per_second': 8.622, 'epoch': 0.6}\n",
      "{'loss': 0.0564, 'learning_rate': 0.0003, 'epoch': 0.7}\n"
     ]
    },
    {
     "data": {
      "application/vnd.jupyter.widget-view+json": {
       "model_id": "30953705a5394012aa55127049fe9e26",
       "version_major": 2,
       "version_minor": 0
      },
      "text/plain": [
       "  0%|          | 0/125 [00:00<?, ?it/s]"
      ]
     },
     "metadata": {},
     "output_type": "display_data"
    },
    {
     "name": "stdout",
     "output_type": "stream",
     "text": [
      "{'eval_loss': 0.05667780339717865, 'eval_accuracy': 0.037, 'eval_runtime': 14.4275, 'eval_samples_per_second': 69.312, 'eval_steps_per_second': 8.664, 'epoch': 0.7}\n",
      "{'loss': 0.0575, 'learning_rate': 0.0002, 'epoch': 0.8}\n"
     ]
    },
    {
     "data": {
      "application/vnd.jupyter.widget-view+json": {
       "model_id": "9973e2411513412c841ceba47d5f00b0",
       "version_major": 2,
       "version_minor": 0
      },
      "text/plain": [
       "  0%|          | 0/125 [00:00<?, ?it/s]"
      ]
     },
     "metadata": {},
     "output_type": "display_data"
    },
    {
     "name": "stdout",
     "output_type": "stream",
     "text": [
      "{'eval_loss': 0.05661725625395775, 'eval_accuracy': 0.035, 'eval_runtime': 14.408, 'eval_samples_per_second': 69.406, 'eval_steps_per_second': 8.676, 'epoch': 0.8}\n",
      "{'loss': 0.056, 'learning_rate': 0.0001, 'epoch': 0.9}\n"
     ]
    },
    {
     "data": {
      "application/vnd.jupyter.widget-view+json": {
       "model_id": "0fa69c67d592455a94bd15204dabefb5",
       "version_major": 2,
       "version_minor": 0
      },
      "text/plain": [
       "  0%|          | 0/125 [00:00<?, ?it/s]"
      ]
     },
     "metadata": {},
     "output_type": "display_data"
    },
    {
     "name": "stdout",
     "output_type": "stream",
     "text": [
      "{'eval_loss': 0.05632016062736511, 'eval_accuracy': 0.035, 'eval_runtime': 14.4527, 'eval_samples_per_second': 69.191, 'eval_steps_per_second': 8.649, 'epoch': 0.9}\n",
      "{'loss': 0.0568, 'learning_rate': 0.0, 'epoch': 1.0}\n"
     ]
    },
    {
     "data": {
      "application/vnd.jupyter.widget-view+json": {
       "model_id": "b15f78d688e64641a17c764d55fddb94",
       "version_major": 2,
       "version_minor": 0
      },
      "text/plain": [
       "  0%|          | 0/125 [00:00<?, ?it/s]"
      ]
     },
     "metadata": {},
     "output_type": "display_data"
    },
    {
     "name": "stdout",
     "output_type": "stream",
     "text": [
      "{'eval_loss': 0.056216370314359665, 'eval_accuracy': 0.035, 'eval_runtime': 14.6221, 'eval_samples_per_second': 68.389, 'eval_steps_per_second': 8.549, 'epoch': 1.0}\n",
      "{'train_runtime': 282.1233, 'train_samples_per_second': 14.175, 'train_steps_per_second': 1.772, 'train_loss': 0.05770622873306274, 'epoch': 1.0}\n"
     ]
    },
    {
     "data": {
      "text/plain": [
       "TrainOutput(global_step=500, training_loss=0.05770622873306274, metrics={'train_runtime': 282.1233, 'train_samples_per_second': 14.175, 'train_steps_per_second': 1.772, 'train_loss': 0.05770622873306274, 'epoch': 1.0})"
      ]
     },
     "execution_count": 157,
     "metadata": {},
     "output_type": "execute_result"
    }
   ],
   "source": [
    "trainer.train()"
   ]
  }
 ],
 "metadata": {
  "kernelspec": {
   "display_name": ".venv",
   "language": "python",
   "name": "python3"
  },
  "language_info": {
   "codemirror_mode": {
    "name": "ipython",
    "version": 3
   },
   "file_extension": ".py",
   "mimetype": "text/x-python",
   "name": "python",
   "nbconvert_exporter": "python",
   "pygments_lexer": "ipython3",
   "version": "3.10.7"
  },
  "orig_nbformat": 4
 },
 "nbformat": 4,
 "nbformat_minor": 2
}
