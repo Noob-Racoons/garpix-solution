{
 "cells": [
  {
   "cell_type": "markdown",
   "source": [
    "# Исследование данных Garpix на предмет возможности использования классических ML алгоритмов, для решения поставленной задачи. "
   ],
   "metadata": {
    "collapsed": false
   },
   "id": "963ff3e81c03bc15"
  },
  {
   "cell_type": "code",
   "outputs": [
    {
     "name": "stderr",
     "output_type": "stream",
     "text": [
      "Intel(R) Extension for Scikit-learn* enabled (https://github.com/intel/scikit-learn-intelex)\n"
     ]
    }
   ],
   "source": [
    "import pandas as pd\n",
    "from classes import GarpixZipReader\n",
    "from sklearnex import patch_sklearn\n",
    "\n",
    "patch_sklearn()"
   ],
   "metadata": {
    "collapsed": false,
    "ExecuteTime": {
     "end_time": "2024-02-14T17:15:34.111134992Z",
     "start_time": "2024-02-14T17:15:33.344368763Z"
    }
   },
   "id": "58a0429e008c1ed",
   "execution_count": 1
  },
  {
   "cell_type": "code",
   "outputs": [],
   "source": [
    "# Загрузка данных, полученных от системы GLS\n",
    "data_reader = GarpixZipReader('../../data/garpix_data.zip')\n",
    "raw_data = data_reader.read_zip()"
   ],
   "metadata": {
    "collapsed": false,
    "ExecuteTime": {
     "end_time": "2024-02-14T17:15:51.979868296Z",
     "start_time": "2024-02-14T17:15:37.198729979Z"
    }
   },
   "id": "881b2fed89102f4e",
   "execution_count": 2
  },
  {
   "cell_type": "code",
   "outputs": [
    {
     "name": "stdout",
     "output_type": "stream",
     "text": [
      "204133\n"
     ]
    }
   ],
   "source": [
    "# Первичная очистка данных\n",
    "full_boxes_list = []  # Полный список всех коробок, без учета грузового пространства\n",
    "calculation_data = []  # Данные расчетов (Учитываются только коробки, поместившиеся в грузовое отделение) \n",
    "\n",
    "for raw_item in raw_data:\n",
    "    calculation = {}\n",
    "    for box_item in raw_item['groups'][0]['cargoes']:\n",
    "        box = {'width': box_item['width'],\n",
    "               'height': box_item['height'],\n",
    "               'length': box_item['length'],\n",
    "               'mass': box_item['mass'],\n",
    "               'stacking': box_item['stacking'],\n",
    "               'turnover': box_item['turnover'],\n",
    "               'is_rotate_y': box_item['is_rotate_y'],\n",
    "               'stacking_limit': box_item['stacking_limit']\n",
    "               }\n",
    "        full_boxes_list.append(box)\n",
    "\n",
    "    calculation_data.append(calculation)\n",
    "\n",
    "print(len(full_boxes_list))"
   ],
   "metadata": {
    "collapsed": false,
    "ExecuteTime": {
     "end_time": "2024-02-14T17:35:04.041103972Z",
     "start_time": "2024-02-14T17:35:03.896285218Z"
    }
   },
   "id": "564bc94f4f7febdc",
   "execution_count": 14
  },
  {
   "cell_type": "code",
   "outputs": [],
   "source": [],
   "metadata": {
    "collapsed": false
   },
   "id": "f0418dca7cde1647"
  }
 ],
 "metadata": {
  "kernelspec": {
   "display_name": "Python 3",
   "language": "python",
   "name": "python3"
  },
  "language_info": {
   "codemirror_mode": {
    "name": "ipython",
    "version": 2
   },
   "file_extension": ".py",
   "mimetype": "text/x-python",
   "name": "python",
   "nbconvert_exporter": "python",
   "pygments_lexer": "ipython2",
   "version": "2.7.6"
  }
 },
 "nbformat": 4,
 "nbformat_minor": 5
}
